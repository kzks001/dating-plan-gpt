{
 "cells": [
  {
   "cell_type": "code",
   "execution_count": 1,
   "metadata": {},
   "outputs": [],
   "source": [
    "import os\n",
    "\n",
    "os.environ[\"GPLACES_API_KEY\"]\n",
    "\n",
    "import pandas as pd\n",
    "from langchain.tools import GooglePlacesTool"
   ]
  },
  {
   "cell_type": "code",
   "execution_count": 2,
   "metadata": {},
   "outputs": [],
   "source": [
    "df = pd.read_csv(\"../data/data.csv\")"
   ]
  },
  {
   "cell_type": "code",
   "execution_count": 3,
   "metadata": {},
   "outputs": [],
   "source": [
    "places = GooglePlacesTool()"
   ]
  },
  {
   "cell_type": "code",
   "execution_count": 4,
   "metadata": {},
   "outputs": [
    {
     "data": {
      "text/html": [
       "<div>\n",
       "<style scoped>\n",
       "    .dataframe tbody tr th:only-of-type {\n",
       "        vertical-align: middle;\n",
       "    }\n",
       "\n",
       "    .dataframe tbody tr th {\n",
       "        vertical-align: top;\n",
       "    }\n",
       "\n",
       "    .dataframe thead th {\n",
       "        text-align: right;\n",
       "    }\n",
       "</style>\n",
       "<table border=\"1\" class=\"dataframe\">\n",
       "  <thead>\n",
       "    <tr style=\"text-align: right;\">\n",
       "      <th></th>\n",
       "      <th>location</th>\n",
       "      <th>review</th>\n",
       "    </tr>\n",
       "  </thead>\n",
       "  <tbody>\n",
       "    <tr>\n",
       "      <th>0</th>\n",
       "      <td>The Projector</td>\n",
       "      <td>The Projector is a unique cinema with a retro ...</td>\n",
       "    </tr>\n",
       "    <tr>\n",
       "      <th>1</th>\n",
       "      <td>Yunomori Onsen &amp; Spa</td>\n",
       "      <td>Yunomori Onsen &amp; Spa is a Japanese-style publi...</td>\n",
       "    </tr>\n",
       "    <tr>\n",
       "      <th>2</th>\n",
       "      <td>Yueh Hai Ching Temple</td>\n",
       "      <td>Yueh Hai Ching Temple, a Taoist temple in Sing...</td>\n",
       "    </tr>\n",
       "    <tr>\n",
       "      <th>3</th>\n",
       "      <td>The Summerhouse</td>\n",
       "      <td>The Summerhouse is a highly recommended venue ...</td>\n",
       "    </tr>\n",
       "    <tr>\n",
       "      <th>4</th>\n",
       "      <td>Smoke &amp; Mirrors</td>\n",
       "      <td>Smoke &amp; Mirrors is a highly-rated bar with an ...</td>\n",
       "    </tr>\n",
       "  </tbody>\n",
       "</table>\n",
       "</div>"
      ],
      "text/plain": [
       "                location                                             review\n",
       "0          The Projector  The Projector is a unique cinema with a retro ...\n",
       "1   Yunomori Onsen & Spa  Yunomori Onsen & Spa is a Japanese-style publi...\n",
       "2  Yueh Hai Ching Temple  Yueh Hai Ching Temple, a Taoist temple in Sing...\n",
       "3        The Summerhouse  The Summerhouse is a highly recommended venue ...\n",
       "4        Smoke & Mirrors  Smoke & Mirrors is a highly-rated bar with an ..."
      ]
     },
     "execution_count": 4,
     "metadata": {},
     "output_type": "execute_result"
    }
   ],
   "source": [
    "df.head()"
   ]
  },
  {
   "cell_type": "code",
   "execution_count": 5,
   "metadata": {},
   "outputs": [
    {
     "name": "stdout",
     "output_type": "stream",
     "text": [
      "Address: 6001 Beach Rd, #05-00 GOLDEN MILE TOWER, Singapore 199589\n",
      "Address: 1 Stadium Pl, #02-17/18 Wave Mall, Singapore 397628\n",
      "Address: 30B Phillip St, Singapore 048696\n",
      "Address: 3 Park Ln, Singapore 798387\n",
      "Address: 1 St. Andrew's Road, #06-01 National Gallery Singapore, Singapore 178957\n",
      "Address: 8 Bayfront Ave, Singapore 018955\n",
      "Address: 3 Lim Chu Kang Lane 4, Singapore 718859\n",
      "Address: Singapore 178957\n",
      "Address: 93 Stamford Rd, Singapore 178897\n",
      "Address: 30 Victoria St, Singapore 187996\n",
      "Address: 2 Keppel Bay Vista, Singapore 098382\n",
      "Address: 2 Bayfront Ave, # B1 - 67, Singapore 018972\n",
      "Address: 20 Kensington Park Rd, Singapore 557269\n",
      "Address: 320 Orchard Rd, Singapore Marriott Tang Plaza Hotel, Singapore 238865\n",
      "Address: E Coast Park Service Rd, Singapore\n",
      "Address: 55, 01-05 Keong Saik Rd., Singapore 089158\n",
      "Address: 1 Esplanade Dr, Singapore 038981\n",
      "Address: 15 Science Centre Rd, Singapore 609081\n"
     ]
    }
   ],
   "source": [
    "for place in df[\"location\"]:\n",
    "    print(places.run(place).split(\"\\n\")[1])"
   ]
  },
  {
   "cell_type": "code",
   "execution_count": null,
   "metadata": {},
   "outputs": [],
   "source": []
  }
 ],
 "metadata": {
  "kernelspec": {
   "display_name": ".venv",
   "language": "python",
   "name": "python3"
  },
  "language_info": {
   "codemirror_mode": {
    "name": "ipython",
    "version": 3
   },
   "file_extension": ".py",
   "mimetype": "text/x-python",
   "name": "python",
   "nbconvert_exporter": "python",
   "pygments_lexer": "ipython3",
   "version": "3.9.6"
  },
  "orig_nbformat": 4
 },
 "nbformat": 4,
 "nbformat_minor": 2
}
