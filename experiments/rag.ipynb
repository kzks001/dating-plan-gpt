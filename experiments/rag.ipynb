{
 "cells": [
  {
   "cell_type": "code",
   "execution_count": 84,
   "metadata": {},
   "outputs": [
    {
     "data": {
      "text/plain": [
       "True"
      ]
     },
     "execution_count": 84,
     "metadata": {},
     "output_type": "execute_result"
    }
   ],
   "source": [
    "from langchain.chains import RetrievalQA\n",
    "from langchain.document_loaders import TextLoader\n",
    "from langchain.embeddings.openai import OpenAIEmbeddings\n",
    "from langchain.llms import OpenAI\n",
    "from langchain.chat_models import ChatOpenAI\n",
    "from langchain.text_splitter import CharacterTextSplitter\n",
    "from langchain.vectorstores import Chroma\n",
    "from langchain.document_loaders.csv_loader import CSVLoader\n",
    "from dotenv import load_dotenv\n",
    "import os\n",
    "import pinecone\n",
    "from langchain.vectorstores import Pinecone\n",
    "from loguru import logger\n",
    "\n",
    "dotenv_path = \"../secrets.env\"\n",
    "load_dotenv(dotenv_path)"
   ]
  },
  {
   "cell_type": "code",
   "execution_count": 83,
   "metadata": {},
   "outputs": [],
   "source": [
    "INDEX_NAME = \"dating-plan-gpt-index\"\n",
    "DIMENSION = 1536"
   ]
  },
  {
   "cell_type": "code",
   "execution_count": null,
   "metadata": {},
   "outputs": [],
   "source": [
    "pinecone.delete_index('dating-plan-gpt-index')"
   ]
  },
  {
   "cell_type": "code",
   "execution_count": 123,
   "metadata": {},
   "outputs": [],
   "source": [
    "loader = CSVLoader(file_path=\"../data/reviews.csv\")\n",
    "documents = loader.load()\n",
    "embeddings = OpenAIEmbeddings()\n",
    "llm = ChatOpenAI(temperature=0.5, model=\"gpt-4\")\n",
    "pinecone.init(\n",
    "    api_key=os.environ.get(\"PINECONE_API_KEY\"),  # find at app.pinecone.io\n",
    "    environment=os.environ.get(\"PINECONE_API_ENV\"),  # next to api key in console\n",
    ")\n",
    "docsearch = Pinecone.from_existing_index(index_name=INDEX_NAME, embedding=embeddings)\n",
    "\n"
   ]
  },
  {
   "cell_type": "code",
   "execution_count": 125,
   "metadata": {},
   "outputs": [],
   "source": [
    "\n",
    "from langchain.prompts import PromptTemplate\n",
    "prompt_template = \"\"\"Act as a date planner and generate a creative and flexible dating plan based on the context and requirements provided. \n",
    "Requirements: Your plan should be adaptable to various user constraints such as time, preferences, and other specific requirements. \n",
    "Ensure your responses are diverse and not limited to a fixed number of locations or repetitive suggestions. \n",
    "Use your creativity to provide unique and engaging dating plans for each query. \n",
    "Make sure the timing of the activities in the plan makes sense; for longer available hours, suggest more than one item in the plan. \n",
    "As you currently do not have the ability to remember past conversations, ensure each response is tailored to the specific query at hand. \n",
    "Do not include \"overall rating\" and \"category\" when giving the user your final answer. \n",
    "Use the following pieces of context to answer the question at the end. If you don't know the answer, just say that you don't know, don't try to make up an answer.\n",
    "{context}\n",
    "When coming up with locations to suggest, you must use name field, which is the name of the restaruant/location/mall/museum. Do not use imaginary or made-up names.\n",
    "Also, Take into account of the caption, category and opening_hours field.\n",
    "Format the response in time-table like manner, and explain why you chose the locations you chose. Make them engaging and enticing.\n",
    "Question: {question}\n",
    "\n",
    "Answer: \"\"\"\n",
    "\n",
    "PROMPT = PromptTemplate(\n",
    "    template=prompt_template, input_variables=[\"context\", \"question\"]\n",
    ")\n",
    "\n",
    "chain_type_kwargs = {\"prompt\": PROMPT}\n",
    "# qa = RetrievalQA.from_chain_type(llm=llm, chain_type=\"stuff\", retriever=docsearch.as_retriever(), chain_type_kwargs=chain_type_kwargs)"
   ]
  },
  {
   "cell_type": "code",
   "execution_count": 126,
   "metadata": {},
   "outputs": [],
   "source": [
    "qa = RetrievalQA.from_chain_type(\n",
    "    llm=llm,\n",
    "    chain_type=\"stuff\",\n",
    "    retriever=docsearch.as_retriever(search_kwargs={\"k\": 10}),\n",
    "    chain_type_kwargs=chain_type_kwargs,\n",
    "    return_source_documents=True,\n",
    ")"
   ]
  },
  {
   "cell_type": "code",
   "execution_count": 127,
   "metadata": {},
   "outputs": [],
   "source": [
    "query = \"I am available from 5pm to 9pm. Help me plan a date to a museum and japanese restaurant.\"\n",
    "# print(qa.run(query))\n",
    "result = qa({\"query\": query})\n"
   ]
  },
  {
   "cell_type": "code",
   "execution_count": 128,
   "metadata": {},
   "outputs": [
    {
     "name": "stdout",
     "output_type": "stream",
     "text": [
      "Sure, based on your preferences and the available time, here's a plan for your date:\n",
      "\n",
      "5:00 pm - 7:00 pm: Start your evening at the National Museum of Singapore. This museum is known for its well-designed facilities and innovative exhibits. You can spend a good two hours exploring the various exhibits, which include a unique showcase of stories from low-income families about their relationship with food. It's not just a museum visit, but an immersive cultural experience. \n",
      "\n",
      "7:00 pm - 7:30 pm: Take a leisurely stroll or a short drive from the National Museum of Singapore to your dinner location. This transition time will give you and your date a chance to discuss the exhibits you've just seen and build up an appetite for dinner.\n",
      "\n",
      "7:30 pm - 9:00 pm: Conclude your date with a delightful dining experience at KOMA Singapore. This Asian fusion restaurant is known for its personalized service, majestic oriental decorations, and delicious dishes. The staff even addresses guests by their names, adding a personal touch to the experience. Please note that reservations are difficult to secure and need to be made well in advance. \n",
      "\n",
      "This plan offers a mix of cultural exploration at the museum and a unique dining experience, making for a memorable date. Enjoy your evening!\n"
     ]
    }
   ],
   "source": [
    "print(result[\"result\"])"
   ]
  },
  {
   "cell_type": "code",
   "execution_count": null,
   "metadata": {},
   "outputs": [],
   "source": []
  }
 ],
 "metadata": {
  "kernelspec": {
   "display_name": ".venv",
   "language": "python",
   "name": "python3"
  },
  "language_info": {
   "codemirror_mode": {
    "name": "ipython",
    "version": 3
   },
   "file_extension": ".py",
   "mimetype": "text/x-python",
   "name": "python",
   "nbconvert_exporter": "python",
   "pygments_lexer": "ipython3",
   "version": "3.9.9"
  },
  "orig_nbformat": 4
 },
 "nbformat": 4,
 "nbformat_minor": 2
}
