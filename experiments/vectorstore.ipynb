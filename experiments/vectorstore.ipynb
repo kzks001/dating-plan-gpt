{
 "cells": [
  {
   "cell_type": "code",
   "execution_count": 1,
   "metadata": {},
   "outputs": [
    {
     "name": "stderr",
     "output_type": "stream",
     "text": [
      "/Users/samuelkoh/projects/dating-plan-gpt/.venv/lib/python3.9/site-packages/pinecone/index.py:4: TqdmExperimentalWarning: Using `tqdm.autonotebook.tqdm` in notebook mode. Use `tqdm.tqdm` instead to force console mode (e.g. in jupyter console)\n",
      "  from tqdm.autonotebook import tqdm\n"
     ]
    }
   ],
   "source": [
    "import time\n",
    "import os\n",
    "from typing import Dict, Any\n",
    "from loguru import logger\n",
    "from dotenv import load_dotenv\n",
    "\n",
    "dotenv_path = \"../secrets.env\"\n",
    "load_dotenv(dotenv_path)\n",
    "\n",
    "import pandas as pd\n",
    "from langchain.document_loaders.csv_loader import CSVLoader\n",
    "from langchain.embeddings.openai import OpenAIEmbeddings\n",
    "import pinecone\n",
    "from langchain.vectorstores import Pinecone\n",
    "from langchain.chains.question_answering import load_qa_chain\n",
    "from langchain.chat_models import ChatOpenAI"
   ]
  },
  {
   "cell_type": "code",
   "execution_count": 2,
   "metadata": {},
   "outputs": [],
   "source": [
    "df = pd.read_csv(\"../data/reviews.csv\")"
   ]
  },
  {
   "cell_type": "code",
   "execution_count": 3,
   "metadata": {},
   "outputs": [
    {
     "data": {
      "text/plain": [
       "18"
      ]
     },
     "execution_count": 3,
     "metadata": {},
     "output_type": "execute_result"
    }
   ],
   "source": [
    "len(df[\"name\"].unique())"
   ]
  },
  {
   "cell_type": "code",
   "execution_count": 4,
   "metadata": {},
   "outputs": [
    {
     "data": {
      "text/plain": [
       "Index(['caption', 'name', 'overall_rating', 'category', 'opening_hours'], dtype='object')"
      ]
     },
     "execution_count": 4,
     "metadata": {},
     "output_type": "execute_result"
    }
   ],
   "source": [
    "df.columns"
   ]
  },
  {
   "cell_type": "code",
   "execution_count": 5,
   "metadata": {},
   "outputs": [],
   "source": [
    "loader = CSVLoader(file_path=\"../data/reviews.csv\")\n",
    "data = loader.load()"
   ]
  },
  {
   "cell_type": "code",
   "execution_count": 6,
   "metadata": {},
   "outputs": [
    {
     "data": {
      "text/plain": [
       "1220"
      ]
     },
     "execution_count": 6,
     "metadata": {},
     "output_type": "execute_result"
    }
   ],
   "source": [
    "# Check that each row of the CSV has been loaded into the document correctly.\n",
    "len(data)"
   ]
  },
  {
   "cell_type": "code",
   "execution_count": 5,
   "metadata": {},
   "outputs": [],
   "source": [
    "pinecone.init(\n",
    "    api_key=os.environ.get(\"PINECONE_API_KEY\"),  # find at app.pinecone.io\n",
    "    environment=os.environ.get(\"PINECONE_API_ENV\"),  # next to api key in console\n",
    ")\n",
    "embeddings = OpenAIEmbeddings()\n",
    "index = \"dating-plan-gpt-index\""
   ]
  },
  {
   "cell_type": "code",
   "execution_count": 10,
   "metadata": {},
   "outputs": [],
   "source": [
    "# pinecone.create_index(\"dating-plan-gpt-index\", dimension=1536)\n",
    "# pinecone.delete_index('dating-plan-gpt-index')"
   ]
  },
  {
   "cell_type": "code",
   "execution_count": 6,
   "metadata": {},
   "outputs": [],
   "source": [
    "# docsearch = Pinecone.from_texts(\n",
    "#     [t.page_content for t in data], embeddings, index_name=index\n",
    "# )\n",
    "docsearch = Pinecone.from_existing_index(index_name=index, embedding=embeddings)"
   ]
  },
  {
   "cell_type": "code",
   "execution_count": 7,
   "metadata": {},
   "outputs": [],
   "source": [
    "llm = ChatOpenAI(temperature=0, model=\"gpt-4\")\n",
    "chain = load_qa_chain(llm, chain_type=\"stuff\")"
   ]
  },
  {
   "cell_type": "code",
   "execution_count": 8,
   "metadata": {},
   "outputs": [],
   "source": [
    "dictionary = {}"
   ]
  },
  {
   "cell_type": "code",
   "execution_count": 9,
   "metadata": {},
   "outputs": [],
   "source": [
    "def summarize_dating_activities(\n",
    "    df: pd.DataFrame,\n",
    "    docsearch,\n",
    "    chain,\n",
    "    dictionary: Dict[str, Any],\n",
    "    max_attempts: int = 15,\n",
    "    k: int = 30,\n",
    ") -> Dict[str, Any]:\n",
    "    \"\"\"\n",
    "    This function summarizes the dating activities for each unique name in the DataFrame.\n",
    "\n",
    "    Args:\n",
    "        df (pd.DataFrame): The DataFrame containing the data.\n",
    "        docsearch: The document search object.\n",
    "        chain: The chain object.\n",
    "        dictionary (Dict[str, Any]): The dictionary to store the results.\n",
    "        max_attempts (int, optional): The maximum number of attempts for each name. Defaults to 15.\n",
    "        k (int, optional): The initial number of documents to search. Decreases with each attempt. Defaults to 30.\n",
    "\n",
    "    Returns:\n",
    "        Dict[str, Any]: The dictionary with the results.\n",
    "    \"\"\"\n",
    "    # Iterate over each unique name in the DataFrame\n",
    "    for name in df[\"name\"].unique():\n",
    "        # Initialize the number of attempts and the number of documents to search\n",
    "        attempts = max_attempts\n",
    "        num_docs = k\n",
    "\n",
    "        # Try to summarize the dating activities for the current name\n",
    "        while attempts > 0:\n",
    "            try:\n",
    "                # Define the query\n",
    "                query = f\"\"\"\n",
    "                Analyze the provided Google reviews for {name} and generate a clear and concise summary highlighting the potential \n",
    "                activities suitable for a dating scenario. Consider factors such as ambiance, activities, food and drink options, and overall romantic \n",
    "                appeal as mentioned in the reviews. The summary should be structured to provide a comprehensive but short, about 600 characters, \n",
    "                understanding of what a date at this location might entail.            \n",
    "                \"\"\"\n",
    "\n",
    "                # Search for similar documents\n",
    "                doc = docsearch.similarity_search(query, k=num_docs)\n",
    "\n",
    "                # Run the chain and store the result in the dictionary\n",
    "                dictionary[name] = chain.run(\n",
    "                    {\"input_documents\": doc, \"question\": query}\n",
    "                )\n",
    "\n",
    "                # Log the success and break the loop\n",
    "                logger.info(f\"Successfully summarized dating activities for {name}.\")\n",
    "                break\n",
    "            except:\n",
    "                # Decrease the number of attempts and the number of documents to search\n",
    "                num_docs -= 1\n",
    "                attempts -= 1\n",
    "\n",
    "                # Log the failure and wait for 1 second before the next attempt\n",
    "                logger.warning(\n",
    "                    f\"Failed to summarize dating activities for {name}. Retrying in 10 second...\"\n",
    "                )\n",
    "                time.sleep(10)\n",
    "\n",
    "    return dictionary"
   ]
  },
  {
   "cell_type": "code",
   "execution_count": 10,
   "metadata": {},
   "outputs": [
    {
     "name": "stderr",
     "output_type": "stream",
     "text": [
      "\u001b[32m2023-07-27 11:51:55.045\u001b[0m | \u001b[1mINFO    \u001b[0m | \u001b[36m__main__\u001b[0m:\u001b[36msummarize_dating_activities\u001b[0m:\u001b[36m49\u001b[0m - \u001b[1mSuccessfully summarized dating activities for The Projector.\u001b[0m\n",
      "\u001b[32m2023-07-27 11:52:06.511\u001b[0m | \u001b[1mINFO    \u001b[0m | \u001b[36m__main__\u001b[0m:\u001b[36msummarize_dating_activities\u001b[0m:\u001b[36m49\u001b[0m - \u001b[1mSuccessfully summarized dating activities for Yunomori Onsen & Spa.\u001b[0m\n",
      "Retrying langchain.chat_models.openai.ChatOpenAI.completion_with_retry.<locals>._completion_with_retry in 1.0 seconds as it raised RateLimitError: Rate limit reached for 10KTPM-200RPM in organization org-AtFNVtneM1sGgYAX20J7ccCz on tokens per min. Limit: 10000 / min. Please try again in 6ms. Contact us through our help center at help.openai.com if you continue to have issues..\n",
      "Retrying langchain.chat_models.openai.ChatOpenAI.completion_with_retry.<locals>._completion_with_retry in 2.0 seconds as it raised RateLimitError: Rate limit reached for 10KTPM-200RPM in organization org-AtFNVtneM1sGgYAX20J7ccCz on tokens per min. Limit: 10000 / min. Please try again in 6ms. Contact us through our help center at help.openai.com if you continue to have issues..\n",
      "Retrying langchain.chat_models.openai.ChatOpenAI.completion_with_retry.<locals>._completion_with_retry in 4.0 seconds as it raised RateLimitError: Rate limit reached for 10KTPM-200RPM in organization org-AtFNVtneM1sGgYAX20J7ccCz on tokens per min. Limit: 10000 / min. Please try again in 6ms. Contact us through our help center at help.openai.com if you continue to have issues..\n",
      "\u001b[32m2023-07-27 11:52:25.909\u001b[0m | \u001b[1mINFO    \u001b[0m | \u001b[36m__main__\u001b[0m:\u001b[36msummarize_dating_activities\u001b[0m:\u001b[36m49\u001b[0m - \u001b[1mSuccessfully summarized dating activities for Yueh Hai Ching Temple.\u001b[0m\n",
      "Retrying langchain.chat_models.openai.ChatOpenAI.completion_with_retry.<locals>._completion_with_retry in 1.0 seconds as it raised RateLimitError: Rate limit reached for 10KTPM-200RPM in organization org-AtFNVtneM1sGgYAX20J7ccCz on tokens per min. Limit: 10000 / min. Please try again in 6ms. Contact us through our help center at help.openai.com if you continue to have issues..\n",
      "Retrying langchain.chat_models.openai.ChatOpenAI.completion_with_retry.<locals>._completion_with_retry in 2.0 seconds as it raised RateLimitError: Rate limit reached for 10KTPM-200RPM in organization org-AtFNVtneM1sGgYAX20J7ccCz on tokens per min. Limit: 10000 / min. Please try again in 6ms. Contact us through our help center at help.openai.com if you continue to have issues..\n",
      "Retrying langchain.chat_models.openai.ChatOpenAI.completion_with_retry.<locals>._completion_with_retry in 4.0 seconds as it raised RateLimitError: Rate limit reached for 10KTPM-200RPM in organization org-AtFNVtneM1sGgYAX20J7ccCz on tokens per min. Limit: 10000 / min. Please try again in 6ms. Contact us through our help center at help.openai.com if you continue to have issues..\n",
      "Retrying langchain.chat_models.openai.ChatOpenAI.completion_with_retry.<locals>._completion_with_retry in 8.0 seconds as it raised RateLimitError: Rate limit reached for 10KTPM-200RPM in organization org-AtFNVtneM1sGgYAX20J7ccCz on tokens per min. Limit: 10000 / min. Please try again in 6ms. Contact us through our help center at help.openai.com if you continue to have issues..\n",
      "\u001b[32m2023-07-27 11:52:54.132\u001b[0m | \u001b[1mINFO    \u001b[0m | \u001b[36m__main__\u001b[0m:\u001b[36msummarize_dating_activities\u001b[0m:\u001b[36m49\u001b[0m - \u001b[1mSuccessfully summarized dating activities for The Summerhouse.\u001b[0m\n",
      "Retrying langchain.chat_models.openai.ChatOpenAI.completion_with_retry.<locals>._completion_with_retry in 1.0 seconds as it raised RateLimitError: Rate limit reached for 10KTPM-200RPM in organization org-AtFNVtneM1sGgYAX20J7ccCz on tokens per min. Limit: 10000 / min. Please try again in 6ms. Contact us through our help center at help.openai.com if you continue to have issues..\n",
      "Retrying langchain.chat_models.openai.ChatOpenAI.completion_with_retry.<locals>._completion_with_retry in 2.0 seconds as it raised RateLimitError: Rate limit reached for 10KTPM-200RPM in organization org-AtFNVtneM1sGgYAX20J7ccCz on tokens per min. Limit: 10000 / min. Please try again in 6ms. Contact us through our help center at help.openai.com if you continue to have issues..\n",
      "Retrying langchain.chat_models.openai.ChatOpenAI.completion_with_retry.<locals>._completion_with_retry in 4.0 seconds as it raised RateLimitError: Rate limit reached for 10KTPM-200RPM in organization org-AtFNVtneM1sGgYAX20J7ccCz on tokens per min. Limit: 10000 / min. Please try again in 6ms. Contact us through our help center at help.openai.com if you continue to have issues..\n",
      "Retrying langchain.chat_models.openai.ChatOpenAI.completion_with_retry.<locals>._completion_with_retry in 8.0 seconds as it raised RateLimitError: Rate limit reached for 10KTPM-200RPM in organization org-AtFNVtneM1sGgYAX20J7ccCz on tokens per min. Limit: 10000 / min. Please try again in 6ms. Contact us through our help center at help.openai.com if you continue to have issues..\n",
      "Retrying langchain.chat_models.openai.ChatOpenAI.completion_with_retry.<locals>._completion_with_retry in 16.0 seconds as it raised RateLimitError: Rate limit reached for 10KTPM-200RPM in organization org-AtFNVtneM1sGgYAX20J7ccCz on tokens per min. Limit: 10000 / min. Please try again in 6ms. Contact us through our help center at help.openai.com if you continue to have issues..\n",
      "\u001b[32m2023-07-27 11:53:39.389\u001b[0m | \u001b[1mINFO    \u001b[0m | \u001b[36m__main__\u001b[0m:\u001b[36msummarize_dating_activities\u001b[0m:\u001b[36m49\u001b[0m - \u001b[1mSuccessfully summarized dating activities for Smoke & Mirrors.\u001b[0m\n",
      "\u001b[32m2023-07-27 11:53:50.205\u001b[0m | \u001b[1mINFO    \u001b[0m | \u001b[36m__main__\u001b[0m:\u001b[36msummarize_dating_activities\u001b[0m:\u001b[36m49\u001b[0m - \u001b[1mSuccessfully summarized dating activities for The Shoppes at Marina Bay Sands.\u001b[0m\n",
      "Retrying langchain.chat_models.openai.ChatOpenAI.completion_with_retry.<locals>._completion_with_retry in 1.0 seconds as it raised RateLimitError: Rate limit reached for 10KTPM-200RPM in organization org-AtFNVtneM1sGgYAX20J7ccCz on tokens per min. Limit: 10000 / min. Please try again in 6ms. Contact us through our help center at help.openai.com if you continue to have issues..\n",
      "Retrying langchain.chat_models.openai.ChatOpenAI.completion_with_retry.<locals>._completion_with_retry in 2.0 seconds as it raised RateLimitError: Rate limit reached for 10KTPM-200RPM in organization org-AtFNVtneM1sGgYAX20J7ccCz on tokens per min. Limit: 10000 / min. Please try again in 6ms. Contact us through our help center at help.openai.com if you continue to have issues..\n",
      "Retrying langchain.chat_models.openai.ChatOpenAI.completion_with_retry.<locals>._completion_with_retry in 4.0 seconds as it raised RateLimitError: Rate limit reached for 10KTPM-200RPM in organization org-AtFNVtneM1sGgYAX20J7ccCz on tokens per min. Limit: 10000 / min. Please try again in 6ms. Contact us through our help center at help.openai.com if you continue to have issues..\n",
      "Retrying langchain.chat_models.openai.ChatOpenAI.completion_with_retry.<locals>._completion_with_retry in 8.0 seconds as it raised RateLimitError: Rate limit reached for 10KTPM-200RPM in organization org-AtFNVtneM1sGgYAX20J7ccCz on tokens per min. Limit: 10000 / min. Please try again in 6ms. Contact us through our help center at help.openai.com if you continue to have issues..\n",
      "\u001b[32m2023-07-27 11:54:17.587\u001b[0m | \u001b[1mINFO    \u001b[0m | \u001b[36m__main__\u001b[0m:\u001b[36msummarize_dating_activities\u001b[0m:\u001b[36m49\u001b[0m - \u001b[1mSuccessfully summarized dating activities for Hay Dairies Pte Ltd (Goat Farm).\u001b[0m\n",
      "Retrying langchain.chat_models.openai.ChatOpenAI.completion_with_retry.<locals>._completion_with_retry in 1.0 seconds as it raised RateLimitError: Rate limit reached for 10KTPM-200RPM in organization org-AtFNVtneM1sGgYAX20J7ccCz on tokens per min. Limit: 10000 / min. Please try again in 6ms. Contact us through our help center at help.openai.com if you continue to have issues..\n",
      "Retrying langchain.chat_models.openai.ChatOpenAI.completion_with_retry.<locals>._completion_with_retry in 2.0 seconds as it raised RateLimitError: Rate limit reached for 10KTPM-200RPM in organization org-AtFNVtneM1sGgYAX20J7ccCz on tokens per min. Limit: 10000 / min. Please try again in 6ms. Contact us through our help center at help.openai.com if you continue to have issues..\n",
      "Retrying langchain.chat_models.openai.ChatOpenAI.completion_with_retry.<locals>._completion_with_retry in 4.0 seconds as it raised RateLimitError: Rate limit reached for 10KTPM-200RPM in organization org-AtFNVtneM1sGgYAX20J7ccCz on tokens per min. Limit: 10000 / min. Please try again in 6ms. Contact us through our help center at help.openai.com if you continue to have issues..\n",
      "Retrying langchain.chat_models.openai.ChatOpenAI.completion_with_retry.<locals>._completion_with_retry in 8.0 seconds as it raised RateLimitError: Rate limit reached for 10KTPM-200RPM in organization org-AtFNVtneM1sGgYAX20J7ccCz on tokens per min. Limit: 10000 / min. Please try again in 6ms. Contact us through our help center at help.openai.com if you continue to have issues..\n",
      "Retrying langchain.chat_models.openai.ChatOpenAI.completion_with_retry.<locals>._completion_with_retry in 16.0 seconds as it raised RateLimitError: Rate limit reached for 10KTPM-200RPM in organization org-AtFNVtneM1sGgYAX20J7ccCz on tokens per min. Limit: 10000 / min. Please try again in 6ms. Contact us through our help center at help.openai.com if you continue to have issues..\n",
      "\u001b[32m2023-07-27 11:55:02.131\u001b[0m | \u001b[1mINFO    \u001b[0m | \u001b[36m__main__\u001b[0m:\u001b[36msummarize_dating_activities\u001b[0m:\u001b[36m49\u001b[0m - \u001b[1mSuccessfully summarized dating activities for National Gallery Singapore.\u001b[0m\n",
      "Retrying langchain.chat_models.openai.ChatOpenAI.completion_with_retry.<locals>._completion_with_retry in 1.0 seconds as it raised RateLimitError: Rate limit reached for 10KTPM-200RPM in organization org-AtFNVtneM1sGgYAX20J7ccCz on tokens per min. Limit: 10000 / min. Please try again in 6ms. Contact us through our help center at help.openai.com if you continue to have issues..\n",
      "Retrying langchain.chat_models.openai.ChatOpenAI.completion_with_retry.<locals>._completion_with_retry in 2.0 seconds as it raised RateLimitError: Rate limit reached for 10KTPM-200RPM in organization org-AtFNVtneM1sGgYAX20J7ccCz on tokens per min. Limit: 10000 / min. Please try again in 6ms. Contact us through our help center at help.openai.com if you continue to have issues..\n",
      "Retrying langchain.chat_models.openai.ChatOpenAI.completion_with_retry.<locals>._completion_with_retry in 4.0 seconds as it raised RateLimitError: Rate limit reached for 10KTPM-200RPM in organization org-AtFNVtneM1sGgYAX20J7ccCz on tokens per min. Limit: 10000 / min. Please try again in 6ms. Contact us through our help center at help.openai.com if you continue to have issues..\n",
      "Retrying langchain.chat_models.openai.ChatOpenAI.completion_with_retry.<locals>._completion_with_retry in 8.0 seconds as it raised RateLimitError: Rate limit reached for 10KTPM-200RPM in organization org-AtFNVtneM1sGgYAX20J7ccCz on tokens per min. Limit: 10000 / min. Please try again in 6ms. Contact us through our help center at help.openai.com if you continue to have issues..\n",
      "\u001b[32m2023-07-27 11:55:28.343\u001b[0m | \u001b[1mINFO    \u001b[0m | \u001b[36m__main__\u001b[0m:\u001b[36msummarize_dating_activities\u001b[0m:\u001b[36m49\u001b[0m - \u001b[1mSuccessfully summarized dating activities for National Museum of Singapore.\u001b[0m\n",
      "Retrying langchain.chat_models.openai.ChatOpenAI.completion_with_retry.<locals>._completion_with_retry in 1.0 seconds as it raised RateLimitError: Rate limit reached for 10KTPM-200RPM in organization org-AtFNVtneM1sGgYAX20J7ccCz on tokens per min. Limit: 10000 / min. Please try again in 6ms. Contact us through our help center at help.openai.com if you continue to have issues..\n",
      "Retrying langchain.chat_models.openai.ChatOpenAI.completion_with_retry.<locals>._completion_with_retry in 2.0 seconds as it raised RateLimitError: Rate limit reached for 10KTPM-200RPM in organization org-AtFNVtneM1sGgYAX20J7ccCz on tokens per min. Limit: 10000 / min. Please try again in 6ms. Contact us through our help center at help.openai.com if you continue to have issues..\n",
      "Retrying langchain.chat_models.openai.ChatOpenAI.completion_with_retry.<locals>._completion_with_retry in 4.0 seconds as it raised RateLimitError: Rate limit reached for 10KTPM-200RPM in organization org-AtFNVtneM1sGgYAX20J7ccCz on tokens per min. Limit: 10000 / min. Please try again in 6ms. Contact us through our help center at help.openai.com if you continue to have issues..\n",
      "Retrying langchain.chat_models.openai.ChatOpenAI.completion_with_retry.<locals>._completion_with_retry in 8.0 seconds as it raised RateLimitError: Rate limit reached for 10KTPM-200RPM in organization org-AtFNVtneM1sGgYAX20J7ccCz on tokens per min. Limit: 10000 / min. Please try again in 6ms. Contact us through our help center at help.openai.com if you continue to have issues..\n",
      "\u001b[32m2023-07-27 11:55:55.476\u001b[0m | \u001b[1mINFO    \u001b[0m | \u001b[36m__main__\u001b[0m:\u001b[36msummarize_dating_activities\u001b[0m:\u001b[36m49\u001b[0m - \u001b[1mSuccessfully summarized dating activities for CHIJMES.\u001b[0m\n",
      "\u001b[32m2023-07-27 11:56:08.175\u001b[0m | \u001b[1mINFO    \u001b[0m | \u001b[36m__main__\u001b[0m:\u001b[36msummarize_dating_activities\u001b[0m:\u001b[36m49\u001b[0m - \u001b[1mSuccessfully summarized dating activities for Marina at Keppel Bay.\u001b[0m\n",
      "Retrying langchain.chat_models.openai.ChatOpenAI.completion_with_retry.<locals>._completion_with_retry in 1.0 seconds as it raised RateLimitError: Rate limit reached for 10KTPM-200RPM in organization org-AtFNVtneM1sGgYAX20J7ccCz on tokens per min. Limit: 10000 / min. Please try again in 6ms. Contact us through our help center at help.openai.com if you continue to have issues..\n",
      "Retrying langchain.chat_models.openai.ChatOpenAI.completion_with_retry.<locals>._completion_with_retry in 2.0 seconds as it raised RateLimitError: Rate limit reached for 10KTPM-200RPM in organization org-AtFNVtneM1sGgYAX20J7ccCz on tokens per min. Limit: 10000 / min. Please try again in 6ms. Contact us through our help center at help.openai.com if you continue to have issues..\n",
      "Retrying langchain.chat_models.openai.ChatOpenAI.completion_with_retry.<locals>._completion_with_retry in 4.0 seconds as it raised RateLimitError: Rate limit reached for 10KTPM-200RPM in organization org-AtFNVtneM1sGgYAX20J7ccCz on tokens per min. Limit: 10000 / min. Please try again in 6ms. Contact us through our help center at help.openai.com if you continue to have issues..\n",
      "Retrying langchain.chat_models.openai.ChatOpenAI.completion_with_retry.<locals>._completion_with_retry in 8.0 seconds as it raised RateLimitError: Rate limit reached for 10KTPM-200RPM in organization org-AtFNVtneM1sGgYAX20J7ccCz on tokens per min. Limit: 10000 / min. Please try again in 6ms. Contact us through our help center at help.openai.com if you continue to have issues..\n",
      "\u001b[32m2023-07-27 11:56:41.558\u001b[0m | \u001b[1mINFO    \u001b[0m | \u001b[36m__main__\u001b[0m:\u001b[36msummarize_dating_activities\u001b[0m:\u001b[36m49\u001b[0m - \u001b[1mSuccessfully summarized dating activities for KOMA Singapore.\u001b[0m\n",
      "Retrying langchain.chat_models.openai.ChatOpenAI.completion_with_retry.<locals>._completion_with_retry in 1.0 seconds as it raised RateLimitError: Rate limit reached for 10KTPM-200RPM in organization org-AtFNVtneM1sGgYAX20J7ccCz on tokens per min. Limit: 10000 / min. Please try again in 6ms. Contact us through our help center at help.openai.com if you continue to have issues..\n",
      "Retrying langchain.chat_models.openai.ChatOpenAI.completion_with_retry.<locals>._completion_with_retry in 2.0 seconds as it raised RateLimitError: Rate limit reached for 10KTPM-200RPM in organization org-AtFNVtneM1sGgYAX20J7ccCz on tokens per min. Limit: 10000 / min. Please try again in 6ms. Contact us through our help center at help.openai.com if you continue to have issues..\n",
      "Retrying langchain.chat_models.openai.ChatOpenAI.completion_with_retry.<locals>._completion_with_retry in 4.0 seconds as it raised RateLimitError: Rate limit reached for 10KTPM-200RPM in organization org-AtFNVtneM1sGgYAX20J7ccCz on tokens per min. Limit: 10000 / min. Please try again in 6ms. Contact us through our help center at help.openai.com if you continue to have issues..\n",
      "Retrying langchain.chat_models.openai.ChatOpenAI.completion_with_retry.<locals>._completion_with_retry in 8.0 seconds as it raised RateLimitError: Rate limit reached for 10KTPM-200RPM in organization org-AtFNVtneM1sGgYAX20J7ccCz on tokens per min. Limit: 10000 / min. Please try again in 6ms. Contact us through our help center at help.openai.com if you continue to have issues..\n",
      "\u001b[32m2023-07-27 11:57:09.035\u001b[0m | \u001b[1mINFO    \u001b[0m | \u001b[36m__main__\u001b[0m:\u001b[36msummarize_dating_activities\u001b[0m:\u001b[36m49\u001b[0m - \u001b[1mSuccessfully summarized dating activities for Chomp Chomp Food Centre.\u001b[0m\n",
      "Retrying langchain.chat_models.openai.ChatOpenAI.completion_with_retry.<locals>._completion_with_retry in 1.0 seconds as it raised RateLimitError: Rate limit reached for 10KTPM-200RPM in organization org-AtFNVtneM1sGgYAX20J7ccCz on tokens per min. Limit: 10000 / min. Please try again in 6ms. Contact us through our help center at help.openai.com if you continue to have issues..\n",
      "Retrying langchain.chat_models.openai.ChatOpenAI.completion_with_retry.<locals>._completion_with_retry in 2.0 seconds as it raised RateLimitError: Rate limit reached for 10KTPM-200RPM in organization org-AtFNVtneM1sGgYAX20J7ccCz on tokens per min. Limit: 10000 / min. Please try again in 6ms. Contact us through our help center at help.openai.com if you continue to have issues..\n",
      "Retrying langchain.chat_models.openai.ChatOpenAI.completion_with_retry.<locals>._completion_with_retry in 4.0 seconds as it raised RateLimitError: Rate limit reached for 10KTPM-200RPM in organization org-AtFNVtneM1sGgYAX20J7ccCz on tokens per min. Limit: 10000 / min. Please try again in 6ms. Contact us through our help center at help.openai.com if you continue to have issues..\n",
      "Retrying langchain.chat_models.openai.ChatOpenAI.completion_with_retry.<locals>._completion_with_retry in 8.0 seconds as it raised RateLimitError: Rate limit reached for 10KTPM-200RPM in organization org-AtFNVtneM1sGgYAX20J7ccCz on tokens per min. Limit: 10000 / min. Please try again in 6ms. Contact us through our help center at help.openai.com if you continue to have issues..\n",
      "\u001b[32m2023-07-27 11:57:36.447\u001b[0m | \u001b[1mINFO    \u001b[0m | \u001b[36m__main__\u001b[0m:\u001b[36msummarize_dating_activities\u001b[0m:\u001b[36m49\u001b[0m - \u001b[1mSuccessfully summarized dating activities for The Other Room.\u001b[0m\n",
      "Retrying langchain.chat_models.openai.ChatOpenAI.completion_with_retry.<locals>._completion_with_retry in 1.0 seconds as it raised RateLimitError: Rate limit reached for 10KTPM-200RPM in organization org-AtFNVtneM1sGgYAX20J7ccCz on tokens per min. Limit: 10000 / min. Please try again in 6ms. Contact us through our help center at help.openai.com if you continue to have issues..\n",
      "\u001b[32m2023-07-27 11:57:48.530\u001b[0m | \u001b[1mINFO    \u001b[0m | \u001b[36m__main__\u001b[0m:\u001b[36msummarize_dating_activities\u001b[0m:\u001b[36m49\u001b[0m - \u001b[1mSuccessfully summarized dating activities for East Coast Park.\u001b[0m\n",
      "Retrying langchain.chat_models.openai.ChatOpenAI.completion_with_retry.<locals>._completion_with_retry in 1.0 seconds as it raised RateLimitError: Rate limit reached for 10KTPM-200RPM in organization org-AtFNVtneM1sGgYAX20J7ccCz on tokens per min. Limit: 10000 / min. Please try again in 6ms. Contact us through our help center at help.openai.com if you continue to have issues..\n",
      "Retrying langchain.chat_models.openai.ChatOpenAI.completion_with_retry.<locals>._completion_with_retry in 2.0 seconds as it raised RateLimitError: Rate limit reached for 10KTPM-200RPM in organization org-AtFNVtneM1sGgYAX20J7ccCz on tokens per min. Limit: 10000 / min. Please try again in 6ms. Contact us through our help center at help.openai.com if you continue to have issues..\n",
      "Retrying langchain.chat_models.openai.ChatOpenAI.completion_with_retry.<locals>._completion_with_retry in 4.0 seconds as it raised RateLimitError: Rate limit reached for 10KTPM-200RPM in organization org-AtFNVtneM1sGgYAX20J7ccCz on tokens per min. Limit: 10000 / min. Please try again in 6ms. Contact us through our help center at help.openai.com if you continue to have issues..\n",
      "Retrying langchain.chat_models.openai.ChatOpenAI.completion_with_retry.<locals>._completion_with_retry in 8.0 seconds as it raised RateLimitError: Rate limit reached for 10KTPM-200RPM in organization org-AtFNVtneM1sGgYAX20J7ccCz on tokens per min. Limit: 10000 / min. Please try again in 6ms. Contact us through our help center at help.openai.com if you continue to have issues..\n",
      "Retrying langchain.chat_models.openai.ChatOpenAI.completion_with_retry.<locals>._completion_with_retry in 16.0 seconds as it raised RateLimitError: Rate limit reached for 10KTPM-200RPM in organization org-AtFNVtneM1sGgYAX20J7ccCz on tokens per min. Limit: 10000 / min. Please try again in 6ms. Contact us through our help center at help.openai.com if you continue to have issues..\n",
      "\u001b[32m2023-07-27 11:58:33.481\u001b[0m | \u001b[1mINFO    \u001b[0m | \u001b[36m__main__\u001b[0m:\u001b[36msummarize_dating_activities\u001b[0m:\u001b[36m49\u001b[0m - \u001b[1mSuccessfully summarized dating activities for Pasta Bar.\u001b[0m\n",
      "Retrying langchain.chat_models.openai.ChatOpenAI.completion_with_retry.<locals>._completion_with_retry in 1.0 seconds as it raised RateLimitError: Rate limit reached for 10KTPM-200RPM in organization org-AtFNVtneM1sGgYAX20J7ccCz on tokens per min. Limit: 10000 / min. Please try again in 6ms. Contact us through our help center at help.openai.com if you continue to have issues..\n",
      "Retrying langchain.chat_models.openai.ChatOpenAI.completion_with_retry.<locals>._completion_with_retry in 2.0 seconds as it raised RateLimitError: Rate limit reached for 10KTPM-200RPM in organization org-AtFNVtneM1sGgYAX20J7ccCz on tokens per min. Limit: 10000 / min. Please try again in 6ms. Contact us through our help center at help.openai.com if you continue to have issues..\n",
      "\u001b[32m2023-07-27 11:58:47.269\u001b[0m | \u001b[1mINFO    \u001b[0m | \u001b[36m__main__\u001b[0m:\u001b[36msummarize_dating_activities\u001b[0m:\u001b[36m49\u001b[0m - \u001b[1mSuccessfully summarized dating activities for Esplanade - Theatres on the Bay, Singapore.\u001b[0m\n",
      "Retrying langchain.chat_models.openai.ChatOpenAI.completion_with_retry.<locals>._completion_with_retry in 1.0 seconds as it raised RateLimitError: Rate limit reached for 10KTPM-200RPM in organization org-AtFNVtneM1sGgYAX20J7ccCz on tokens per min. Limit: 10000 / min. Please try again in 6ms. Contact us through our help center at help.openai.com if you continue to have issues..\n",
      "Retrying langchain.chat_models.openai.ChatOpenAI.completion_with_retry.<locals>._completion_with_retry in 2.0 seconds as it raised RateLimitError: Rate limit reached for 10KTPM-200RPM in organization org-AtFNVtneM1sGgYAX20J7ccCz on tokens per min. Limit: 10000 / min. Please try again in 6ms. Contact us through our help center at help.openai.com if you continue to have issues..\n",
      "Retrying langchain.chat_models.openai.ChatOpenAI.completion_with_retry.<locals>._completion_with_retry in 4.0 seconds as it raised RateLimitError: Rate limit reached for 10KTPM-200RPM in organization org-AtFNVtneM1sGgYAX20J7ccCz on tokens per min. Limit: 10000 / min. Please try again in 6ms. Contact us through our help center at help.openai.com if you continue to have issues..\n",
      "Retrying langchain.chat_models.openai.ChatOpenAI.completion_with_retry.<locals>._completion_with_retry in 8.0 seconds as it raised RateLimitError: Rate limit reached for 10KTPM-200RPM in organization org-AtFNVtneM1sGgYAX20J7ccCz on tokens per min. Limit: 10000 / min. Please try again in 6ms. Contact us through our help center at help.openai.com if you continue to have issues..\n",
      "Retrying langchain.chat_models.openai.ChatOpenAI.completion_with_retry.<locals>._completion_with_retry in 16.0 seconds as it raised RateLimitError: Rate limit reached for 10KTPM-200RPM in organization org-AtFNVtneM1sGgYAX20J7ccCz on tokens per min. Limit: 10000 / min. Please try again in 6ms. Contact us through our help center at help.openai.com if you continue to have issues..\n",
      "\u001b[32m2023-07-27 11:59:32.974\u001b[0m | \u001b[1mINFO    \u001b[0m | \u001b[36m__main__\u001b[0m:\u001b[36msummarize_dating_activities\u001b[0m:\u001b[36m49\u001b[0m - \u001b[1mSuccessfully summarized dating activities for Science Centre Singapore.\u001b[0m\n"
     ]
    }
   ],
   "source": [
    "dictionary = summarize_dating_activities(df, docsearch, chain, dictionary)"
   ]
  },
  {
   "cell_type": "code",
   "execution_count": 11,
   "metadata": {},
   "outputs": [
    {
     "data": {
      "text/plain": [
       "18"
      ]
     },
     "execution_count": 11,
     "metadata": {},
     "output_type": "execute_result"
    }
   ],
   "source": [
    "len(dictionary)"
   ]
  },
  {
   "cell_type": "code",
   "execution_count": 12,
   "metadata": {},
   "outputs": [
    {
     "name": "stdout",
     "output_type": "stream",
     "text": [
      "The Projector The Projector is a unique, retro-style cinema that offers a diverse selection of independent and foreign films, making it an ideal spot for a movie date. The cinema's old-school ambiance, complete with vintage decor and comfortable seating, adds to its charm. It also offers a bar with a variety of food and drink options, including alcohol, which can be enjoyed during the movie. The cinema also hosts special events and screenings, adding to its appeal. However, some reviews mention that the seating can be a bit uncomfortable and the venue can be a bit cold. \n",
      "\n",
      "Yunomori Onsen & Spa Yunomori Onsen & Spa offers a unique dating experience with a variety of relaxing activities. Couples can enjoy a variety of baths, including traditional Japanese hot springs and modern hydrotherapy facilities. The ambiance is serene and calming, perfect for a romantic escape. There's also a sauna and steam room for added relaxation. After the spa, couples can dine at the on-site cafe, which offers a range of food options, including Japanese cuisine. The spa also offers massage services, but it's recommended to book in advance. The overall atmosphere is clean, safe, and well-maintained, making it a great choice for a romantic date. \n",
      "\n",
      "Yueh Hai Ching Temple Yueh Hai Ching Temple is a historic Taoist temple with a serene ambiance, making it a unique dating spot. It's known for its intricate artwork and architecture, providing a visually appealing experience. The temple is famous for its spiritual connection to Yue Lao, the deity of love and marriage, making it a popular place for couples and those seeking love. Visitors often pray for relationship blessings here. The staff are noted to be friendly and helpful, enhancing the overall experience. However, there are no mentions of food or drink options within the temple. \n",
      "\n",
      "The Summerhouse The Summerhouse is a highly recommended spot for a romantic date. The restaurant offers a serene and intimate ambiance, with options for private dining in garden domes. The food is generally praised, with mentions of delicious and unique dishes like the cauliflower steak and wagyu brisket. The restaurant also offers a variety of wines. Some reviews mention live music, adding to the romantic atmosphere. The location is described as a bit remote, but this contributes to its charm and tranquility. The staff is noted for their attentive and friendly service. \n",
      "\n",
      "Smoke & Mirrors Smoke & Mirrors is a highly recommended bar for a date night, offering a stunning panoramic view of Marina Bay Sands and the Singapore skyline. The ambiance is described as chill and relaxed, with a classy vibe. The bar offers a creative and frequently updated cocktail menu, with drinks inspired by art pieces. The drinks are praised for their quality, though they are a bit pricey. The food is described as good, but the menu is more suited for light nibbles with drinks rather than a full dinner. The service is generally praised, with the staff being described as welcoming, knowledgeable, and attentive. \n",
      "\n",
      "The Shoppes at Marina Bay Sands The Shoppes at Marina Bay Sands offers a luxurious and romantic setting for a date. With its opulent ambiance, you can enjoy a leisurely stroll through high-end fashion boutiques and jewelry stores. The mall's unique feature, an indoor canal, offers the chance for a romantic boat ride. There's a wide range of dining options, from fine dining to casual eateries, perfect for a romantic meal. The mall's location on the waterfront and the stunning nightly light show in the bay add to the spectacular ambiance. \n",
      "\n",
      "Hay Dairies Pte Ltd (Goat Farm) Hay Dairies Pte Ltd (Goat Farm) offers a unique dating experience, especially for animal and nature lovers. The farm provides an opportunity to feed and interact with friendly goats, which can be a fun and bonding activity for couples. Visitors can also witness the milking process and learn about sustainable farming practices. The farm sells fresh goat milk, including chocolate-flavored milk, which can be enjoyed on-site. However, the farm is located in a remote area, so private transportation is recommended. The ambiance is peaceful and away from the city's hustle, but there are no restaurants or coffee shops on-site. \n",
      "\n",
      "National Gallery Singapore The National Gallery Singapore offers a romantic setting for a date with its stunning architecture and vast art collection. Visitors can enjoy a day exploring various exhibitions, with some reviews suggesting it's a great way to spend a rainy day. The gallery also offers interactive experiences, adding an extra layer of engagement. For dining, there are several restaurants and cafes, including fine dining options and a rooftop bar with city views, although some find the in-house dining a bit pricey. The gallery's ambiance is described as comfortable, inviting, and not overly crowded, making it a cozy spot for couples. \n",
      "\n",
      "National Museum of Singapore The National Museum of Singapore offers a romantic and educational date experience. Visitors appreciate the beautiful architecture and well-curated exhibits, which provide a deep dive into Singapore's rich history. The museum is spacious and not overly crowded, allowing for intimate exploration. It offers interactive exhibits and multimedia displays, making the visit engaging. There are also dining options within the museum, including a café for a quick bite. The museum's picturesque space and rotating exhibits ensure a unique experience with each visit. \n",
      "\n",
      "CHIJMES CHIJMES is a highly recommended spot for a romantic date, offering a blend of history and modernity. The heritage building provides a charming ambiance, especially at night when it's beautifully lit. It's an ideal place for dinner with a variety of restaurants offering diverse cuisines. Post-dinner, you can enjoy drinks at one of the many bars. The venue is also known for its lovely chapel and garden, perfect for a leisurely stroll. The overall atmosphere is vibrant yet intimate, making it a great place for a memorable date. \n",
      "\n",
      "Marina at Keppel Bay Marina at Keppel Bay is a highly rated location ideal for a romantic date. The marina offers a serene and beautiful environment, perfect for a leisurely walk or to watch the sunset. It's also a great place to chill and wind down. The marina is home to a variety of restaurants offering a great view and a wide menu selection, making it a perfect spot for a dinner date. The place is also noted for its excellent service. However, it's best accessed by car or taxi. Overall, it offers a unique waterfront experience with scenic views. \n",
      "\n",
      "KOMA Singapore KOMA Singapore is a highly recommended spot for a date night, offering a unique Asian fusion dining experience. The restaurant is praised for its impressive and romantic ambiance, with many reviews highlighting the beautiful interior design. The food is generally well-received, with some dishes specifically recommended for their taste and presentation. The restaurant also offers a range of cocktails that have been positively reviewed. However, it's worth noting that reservations may need to be made well in advance due to its popularity. Some reviews mention that the restaurant can be pricey, but the overall experience is considered worth the cost. \n",
      "\n",
      "Chomp Chomp Food Centre Chomp Chomp Food Centre offers a lively and bustling atmosphere, perfect for a casual date. With a wide variety of authentic Singaporean street food, couples can enjoy trying out new dishes together. The food is delicious, with generous portions and reasonable prices. The centre is usually crowded, adding to the vibrant ambiance, but it's recommended to come early for seats. It's an open-air setting, which can be a unique dining experience, but it can get quite warm and smoky. Despite this, it's a great place to experience local culture and cuisine. \n",
      "\n",
      "The Other Room The Other Room is a hidden gem, perfect for a romantic date. This speakeasy-style bar offers a cozy, intimate ambiance with excellent cocktails and a creative menu. The bar is known for its top-notch service and friendly staff. The drinks are the main attraction, with a wide variety of unique and flavorful options. Some reviews mention the bar's interesting presentation of drinks and the fun of watching the bartenders at work. The bar is open late, making it a great spot for an after-dinner date. However, it's recommended to make a reservation to secure a spot. \n",
      "\n",
      "East Coast Park East Coast Park is a picturesque coastal destination perfect for a romantic date. The park offers a serene and tropical atmosphere with beautiful views, making it an ideal spot for a leisurely stroll or picnic by the beach. For active couples, there are opportunities for cycling and rollerblading along scenic pathways. The park also boasts a wide range of dining options, from seafood to barbecued delights to traditional Singaporean dishes, satisfying every palate. The tranquil surroundings, vibrant atmosphere, and diverse activities make East Coast Park a charming date spot. \n",
      "\n",
      "Pasta Bar Pasta Bar is a highly recommended Italian restaurant for a romantic date. The ambiance is described as cozy, elegant, and intimate, with an open kitchen that allows diners to watch chefs prepare their meals, adding an interactive element to the experience. The food, particularly the pasta, is praised for its quality and flavor, with the crab pasta and beef ragu being popular choices. The service is noted as top-notch, with attentive and knowledgeable staff. Some reviews mention that the restaurant can be a bit pricey, but the overall experience is deemed worth the cost. \n",
      "\n",
      "Esplanade - Theatres on the Bay, Singapore Esplanade - Theatres on the Bay, Singapore is a popular spot for a romantic date. The venue offers a variety of activities including free performances, concerts, and art events. The ambiance is described as vibrant and beautiful, with unique architecture and stunning views of Marina Bay. There are also numerous food options, including local delicacies and a variety of restaurants. The area is perfect for a leisurely stroll, especially at night when the bay is lit up. Overall, it's a great place to enjoy arts, music, and good food in a beautiful setting. \n",
      "\n",
      "Science Centre Singapore Science Centre Singapore offers a unique dating experience with a variety of interactive exhibits and activities. The centre houses numerous displays covering a wide range of scientific topics, providing an engaging environment for learning and exploration. There's also an Omni-Theatre for an immersive viewing experience. The Kinetic Garden is an outdoor exhibit space that could provide a romantic setting. However, the food options are limited and considered expensive, so dining in nearby restaurants might be a better option. Some reviews suggest that the centre might be more suited for families and children, but it could still be an interesting and educational date for couples interested in science. \n",
      "\n"
     ]
    }
   ],
   "source": [
    "for key, item in dictionary.items():\n",
    "    print(key, item, \"\\n\")"
   ]
  },
  {
   "cell_type": "code",
   "execution_count": 18,
   "metadata": {},
   "outputs": [],
   "source": [
    "df = pd.DataFrame(list(dictionary.items()), columns=[\"name\", \"review\"])"
   ]
  },
  {
   "cell_type": "code",
   "execution_count": 19,
   "metadata": {},
   "outputs": [],
   "source": [
    "df.to_csv(\"../data/data.csv\", index=False)"
   ]
  },
  {
   "cell_type": "code",
   "execution_count": 31,
   "metadata": {},
   "outputs": [
    {
     "data": {
      "text/plain": [
       "dict_keys(['The Projector', 'Yunomori Onsen & Spa', 'Yueh Hai Ching Temple', 'The Summerhouse', 'Smoke & Mirrors', 'The Shoppes at Marina Bay Sands', 'Hay Dairies Pte Ltd (Goat Farm)', 'National Gallery Singapore', 'National Museum of Singapore', 'CHIJMES', 'Marina at Keppel Bay', 'KOMA Singapore', 'Chomp Chomp Food Centre', 'The Other Room', 'East Coast Park', 'Pasta Bar', 'Esplanade - Theatres on the Bay, Singapore', 'Science Centre Singapore'])"
      ]
     },
     "execution_count": 31,
     "metadata": {},
     "output_type": "execute_result"
    }
   ],
   "source": [
    "dictionary.keys()"
   ]
  },
  {
   "cell_type": "code",
   "execution_count": 15,
   "metadata": {},
   "outputs": [
    {
     "name": "stdout",
     "output_type": "stream",
     "text": [
      "562\n",
      "639\n",
      "569\n",
      "560\n",
      "608\n",
      "510\n",
      "626\n",
      "625\n",
      "560\n",
      "530\n",
      "533\n",
      "655\n",
      "555\n",
      "567\n",
      "581\n",
      "576\n",
      "559\n",
      "709\n"
     ]
    }
   ],
   "source": [
    "for key in dictionary:\n",
    "    print(len(dictionary[key]))"
   ]
  },
  {
   "cell_type": "code",
   "execution_count": null,
   "metadata": {},
   "outputs": [],
   "source": []
  }
 ],
 "metadata": {
  "kernelspec": {
   "display_name": ".venv",
   "language": "python",
   "name": "python3"
  },
  "language_info": {
   "codemirror_mode": {
    "name": "ipython",
    "version": 3
   },
   "file_extension": ".py",
   "mimetype": "text/x-python",
   "name": "python",
   "nbconvert_exporter": "python",
   "pygments_lexer": "ipython3",
   "version": "3.9.6"
  },
  "orig_nbformat": 4
 },
 "nbformat": 4,
 "nbformat_minor": 2
}
